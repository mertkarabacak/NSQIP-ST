{
 "cells": [
  {
   "cell_type": "code",
   "execution_count": null,
   "id": "716a36b2",
   "metadata": {
    "tags": []
   },
   "outputs": [],
   "source": [
    "import numpy as np\n",
    "import pandas as pd\n",
    "from pandas.api.types import CategoricalDtype\n",
    "\n",
    "from sklearn.preprocessing import OneHotEncoder\n",
    "from sklearn.preprocessing import LabelEncoder\n",
    "from sklearn.preprocessing import RobustScaler\n",
    "from sklearn.preprocessing import MinMaxScaler\n",
    "from sklearn.impute import KNNImputer\n",
    "\n",
    "from matplotlib import pyplot as plt"
   ]
  },
  {
   "cell_type": "code",
   "execution_count": null,
   "id": "b7ad28af",
   "metadata": {},
   "outputs": [],
   "source": [
    "#Open csv file.\n",
    "\n",
    "data = pd.read_csv(\"../input/st-combined/st_combined_cpt_only.csv\", index_col=0, na_values = -99)\n",
    "data.head()"
   ]
  },
  {
   "cell_type": "code",
   "execution_count": null,
   "id": "4d3a1a25",
   "metadata": {},
   "outputs": [],
   "source": [
    "#See all columns.\n",
    "\n",
    "print(list(data.columns))"
   ]
  },
  {
   "cell_type": "code",
   "execution_count": null,
   "id": "283379db",
   "metadata": {},
   "outputs": [],
   "source": [
    "#Check data shape.\n",
    "\n",
    "data.shape"
   ]
  },
  {
   "cell_type": "code",
   "execution_count": null,
   "id": "08198a80",
   "metadata": {},
   "outputs": [],
   "source": [
    "#Define variables of interest (predictor variables, inclusion/exclusion criteria, outcomes of interest).\n",
    "\n",
    "variables = ['SEX', 'RACE_NEW', 'ETHNICITY_HISPANIC', 'CPT', 'INOUT', 'TRANST', 'AGE', 'OPERYR', 'DISCHDEST', 'ANESTHES', 'SURGSPEC', 'ELECTSURG', 'HEIGHT', 'WEIGHT', 'DIABETES', 'SMOKE', 'DYSPNEA', 'FNSTATUS2', 'VENTILAT', 'HXCOPD', 'ASCITES', 'HXCHF', 'HYPERMED', 'RENAFAIL', 'DIALYSIS', 'DISCANCR', 'WNDINF', 'STEROID', 'WTLOSS', 'BLEEDDIS', 'TRANSFUS', 'PRSEPIS', 'PRSODM', 'PRBUN', 'PRCREAT', 'PRALBUM', 'PRBILI', 'PRSGOT', 'PRALKPH', 'PRWBC', 'PRHCT', 'PRPLATE', 'PRPTT', 'PRINR', 'PRPT', 'OTHERCPT1', 'OTHERCPT2', 'OTHERCPT3', 'OTHERCPT4', 'OTHERCPT5', 'OTHERCPT6', 'OTHERCPT7', 'OTHERCPT8', 'OTHERCPT9', 'OTHERCPT10', 'CONCPT1', 'CONCPT2', 'CONCPT3', 'CONCPT4', 'CONCPT5', 'CONCPT6', 'CONCPT7', 'CONCPT8', 'CONCPT9', 'CONCPT10', 'EMERGNCY', 'WNDCLAS', 'ASACLAS', 'OPTIME', 'TOTHLOS', 'HTOODAY', 'NSUPINFEC', 'NWNDINFD', 'NORGSPCSSI', 'NDEHIS', 'NOUPNEUMO', 'NREINTUB', 'NPULEMBOL', 'NFAILWEAN', 'NRENAINSF', 'NOPRENAFL', 'NURNINFEC', 'NCNSCVA', 'NCDARREST', 'NCDMI', 'NOTHBLEED', 'NOTHDVT', 'NOTHSYSEP', 'NOTHSESHOCK', 'PODIAG', 'PODIAG10', 'STILLINHOSP', 'REOPERATION1', 'READMISSION1']"
   ]
  },
  {
   "cell_type": "code",
   "execution_count": null,
   "id": "73855b4c",
   "metadata": {},
   "outputs": [],
   "source": [
    "#Remove unwanted columns and check data shape.\n",
    "\n",
    "data = data[variables]\n",
    "\n",
    "data.shape"
   ]
  },
  {
   "cell_type": "code",
   "execution_count": null,
   "id": "4293e3bb",
   "metadata": {
    "tags": []
   },
   "outputs": [],
   "source": [
    "#Check data for elective surgeries.\n",
    "\n",
    "data['ELECTSURG'].value_counts(normalize=False, dropna=False)"
   ]
  },
  {
   "cell_type": "code",
   "execution_count": null,
   "id": "64e2a3dd",
   "metadata": {},
   "outputs": [],
   "source": [
    "#Apply inclusion criteria for elective surgeries.\n",
    "\n",
    "data = data[(data['ELECTSURG'] == 'Yes')]\n",
    "\n",
    "data['ELECTSURG'].value_counts(normalize=False, dropna=False)"
   ]
  },
  {
   "cell_type": "code",
   "execution_count": null,
   "id": "63247e0d",
   "metadata": {},
   "outputs": [],
   "source": [
    "#Check data for inpatient vs. outpatient procedures.\n",
    "\n",
    "data['INOUT'].value_counts(normalize=False, dropna=False)"
   ]
  },
  {
   "cell_type": "code",
   "execution_count": null,
   "id": "873fb0c3",
   "metadata": {},
   "outputs": [],
   "source": [
    "#Apply inclusion criteria for inpatient procedures.\n",
    "\n",
    "data = data[(data['INOUT'] == 'Inpatient')]\n",
    "\n",
    "data['INOUT'].value_counts(normalize=False, dropna=False)"
   ]
  },
  {
   "cell_type": "code",
   "execution_count": null,
   "id": "9a585599",
   "metadata": {
    "tags": []
   },
   "outputs": [],
   "source": [
    "#Check data for anesthesia type.\n",
    "\n",
    "data['ANESTHES'].value_counts(normalize=False, dropna=False)"
   ]
  },
  {
   "cell_type": "code",
   "execution_count": null,
   "id": "11398557",
   "metadata": {},
   "outputs": [],
   "source": [
    "#Apply inclusion criteria for general anesthesia.\n",
    "\n",
    "data = data[(data['ANESTHES'] == 'General')]\n",
    "\n",
    "data['ANESTHES'].value_counts(normalize=False, dropna=False)"
   ]
  },
  {
   "cell_type": "code",
   "execution_count": null,
   "id": "1d464dde",
   "metadata": {},
   "outputs": [],
   "source": [
    "#Check data for surgical specialties.\n",
    "\n",
    "data['SURGSPEC'].value_counts(normalize=False, dropna=False)"
   ]
  },
  {
   "cell_type": "code",
   "execution_count": null,
   "id": "32821f4d",
   "metadata": {},
   "outputs": [],
   "source": [
    "#Apply inclusion criteria for surgical specialties.\n",
    "\n",
    "data = data[(data['SURGSPEC'] == 'Neurosurgery') | (data['SURGSPEC'] == 'Orthopedics')]\n",
    "\n",
    "data['SURGSPEC'].value_counts(normalize=False, dropna=False)"
   ]
  },
  {
   "cell_type": "code",
   "execution_count": null,
   "id": "a71144af",
   "metadata": {},
   "outputs": [],
   "source": [
    "#Check data for emergency surgery.\n",
    "\n",
    "data['EMERGNCY'].value_counts(normalize=False, dropna=False)"
   ]
  },
  {
   "cell_type": "code",
   "execution_count": null,
   "id": "d35c579e",
   "metadata": {},
   "outputs": [],
   "source": [
    "#Apply exclusion criteria for emergency surgery.\n",
    "\n",
    "data = data[(data['EMERGNCY'] == 'No')]\n",
    "\n",
    "data['EMERGNCY'].value_counts(normalize=False, dropna=False)"
   ]
  },
  {
   "cell_type": "code",
   "execution_count": null,
   "id": "b91e3b4d",
   "metadata": {},
   "outputs": [],
   "source": [
    "#Check data for ventilator dependency.\n",
    "\n",
    "data['VENTILAT'].value_counts(normalize=False, dropna=False)"
   ]
  },
  {
   "cell_type": "code",
   "execution_count": null,
   "id": "6521fc3b",
   "metadata": {},
   "outputs": [],
   "source": [
    "#Apply exclusion criteria for ventilator dependency.\n",
    "\n",
    "data = data[(data['VENTILAT'] == 'No')]\n",
    "\n",
    "data['VENTILAT'].value_counts(normalize=False, dropna=False)"
   ]
  },
  {
   "cell_type": "code",
   "execution_count": null,
   "id": "d4a9f9cf",
   "metadata": {},
   "outputs": [],
   "source": [
    "#Check data for wound class.\n",
    "\n",
    "data['WNDCLAS'].value_counts(normalize=False, dropna=False)"
   ]
  },
  {
   "cell_type": "code",
   "execution_count": null,
   "id": "865698a3",
   "metadata": {},
   "outputs": [],
   "source": [
    "#Apply exclusion criteria for wound class.\n",
    "\n",
    "data = data[(data['WNDCLAS'] == '1-Clean')]\n",
    "\n",
    "data['WNDCLAS'].value_counts(normalize=False, dropna=False)"
   ]
  },
  {
   "cell_type": "code",
   "execution_count": null,
   "id": "ca962d7c",
   "metadata": {},
   "outputs": [],
   "source": [
    "#Check data for preoperative sepsis.\n",
    "\n",
    "data['PRSEPIS'].value_counts(normalize=False, dropna=False)"
   ]
  },
  {
   "cell_type": "code",
   "execution_count": null,
   "id": "510761ef",
   "metadata": {},
   "outputs": [],
   "source": [
    "#Apply exclusion criteria for preoperative sepsis.\n",
    "\n",
    "data = data[(data['PRSEPIS'] == 'None')]\n",
    "\n",
    "data['PRSEPIS'].value_counts(normalize=False, dropna=False)"
   ]
  },
  {
   "cell_type": "code",
   "execution_count": null,
   "id": "33c507b4",
   "metadata": {},
   "outputs": [],
   "source": [
    "#Check data for ASA Class.\n",
    "\n",
    "data['ASACLAS'].value_counts(normalize=False, dropna=False)"
   ]
  },
  {
   "cell_type": "code",
   "execution_count": null,
   "id": "4d5005d3",
   "metadata": {},
   "outputs": [],
   "source": [
    "#Apply exclusion criteria for ASA class.\n",
    "\n",
    "data = data[(data['ASACLAS'] != '4-Life Threat') & (data['ASACLAS'] != '5-Moribund') & (data['ASACLAS'] != 'None assigned')]\n",
    "\n",
    "data['ASACLAS'].value_counts(normalize=False, dropna=False)"
   ]
  },
  {
   "cell_type": "code",
   "execution_count": null,
   "id": "46f63f30",
   "metadata": {},
   "outputs": [],
   "source": [
    "#Check data for patients still in hospital after 30 days postoperatively.\n",
    "\n",
    "data['STILLINHOSP'].value_counts(normalize=False, dropna=False)"
   ]
  },
  {
   "cell_type": "code",
   "execution_count": null,
   "id": "397e34df",
   "metadata": {},
   "outputs": [],
   "source": [
    "#Apply exclusion criteria for patients still in hospital after 30 days postoperatively.\n",
    "\n",
    "data = data[(data['STILLINHOSP'] == 'No')]\n",
    "\n",
    "data['STILLINHOSP'].value_counts(normalize=False, dropna=False)"
   ]
  },
  {
   "cell_type": "code",
   "execution_count": null,
   "id": "2a5d6cbb",
   "metadata": {},
   "outputs": [],
   "source": [
    "#Create BMI column.\n",
    "\n",
    "lbs_to_kg_ratio = 0.453592\n",
    "inch_to_meter_ratio = 0.0254\n",
    "\n",
    "data['HEIGHT'] *= inch_to_meter_ratio\n",
    "data['WEIGHT'] *= lbs_to_kg_ratio\n",
    "\n",
    "data['BMI'] = data['WEIGHT']/(data['HEIGHT']**2)\n",
    "print(min(data['BMI']))\n",
    "print(max(data['BMI']))"
   ]
  },
  {
   "cell_type": "code",
   "execution_count": null,
   "id": "21f9d890",
   "metadata": {},
   "outputs": [],
   "source": [
    "#Check data for race.\n",
    "\n",
    "data['RACE_NEW'].value_counts(normalize=False, dropna=False)"
   ]
  },
  {
   "cell_type": "code",
   "execution_count": null,
   "id": "c508db41",
   "metadata": {},
   "outputs": [],
   "source": [
    "#Check data for ethnicity.\n",
    "\n",
    "data['ETHNICITY_HISPANIC'].value_counts(normalize=False, dropna=False)"
   ]
  },
  {
   "cell_type": "code",
   "execution_count": null,
   "id": "f297a034",
   "metadata": {},
   "outputs": [],
   "source": [
    "#Simplify race and ethnicity columns.\n",
    "\n",
    "data.loc[data['RACE_NEW'] == 'White', 'RACE'] = 'White'\n",
    "data.loc[data['RACE_NEW'] == 'Black or African American', 'RACE'] = 'Black or African American'\n",
    "data.loc[data['RACE_NEW'] == 'Asian', 'RACE'] = 'Asian'\n",
    "data.loc[data['RACE_NEW'] == 'Native Hawaiian or Pacific Islander', 'RACE'] = 'Other'\n",
    "data.loc[data['RACE_NEW'] == 'American Indian or Alaska Native', 'RACE'] = 'Other'\n",
    "data.loc[data['RACE_NEW'] == 'Native Hawaiian or Other Pacific Islander', 'RACE'] = 'Other'\n",
    "\n",
    "data.loc[data['ETHNICITY_HISPANIC'] == 'Yes', 'RACE'] = 'Hispanic'\n",
    "\n",
    "data['RACE'].value_counts(normalize=False, dropna=False)"
   ]
  },
  {
   "cell_type": "code",
   "execution_count": null,
   "id": "e182fdba",
   "metadata": {},
   "outputs": [],
   "source": [
    "#Check data for transfer status.\n",
    "\n",
    "data['TRANST'].value_counts(normalize=False, dropna=False)"
   ]
  },
  {
   "cell_type": "code",
   "execution_count": null,
   "id": "ede04f97",
   "metadata": {},
   "outputs": [],
   "source": [
    "#Simplify transfer status column.\n",
    "\n",
    "data.loc[data['TRANST'] == 'Not transferred (admitted from home)', 'TRANST'] = 'Not transferred'\n",
    "data.loc[data['TRANST'] == 'From acute care hospital inpatient', 'TRANST'] = 'Transferred'\n",
    "data.loc[data['TRANST'] == 'Outside emergency department', 'TRANST'] = 'Transferred'\n",
    "data.loc[data['TRANST'] == 'Nursing home - Chronic care - Intermediate care', 'TRANST'] = 'Transferred'\n",
    "data.loc[data['TRANST'] == 'Transfer from other', 'TRANST'] = 'Transferred'\n",
    "\n",
    "data['TRANST'].value_counts(normalize=False, dropna=False)"
   ]
  },
  {
   "cell_type": "code",
   "execution_count": null,
   "id": "fec12742",
   "metadata": {},
   "outputs": [],
   "source": [
    "#Check data for dyspnea.\n",
    "\n",
    "data['DYSPNEA'].value_counts(normalize=False, dropna=False)"
   ]
  },
  {
   "cell_type": "code",
   "execution_count": null,
   "id": "79afc2b7",
   "metadata": {},
   "outputs": [],
   "source": [
    "#Simplify dyspnea column.\n",
    "\n",
    "data.loc[data['DYSPNEA'] == 'No', 'DYSPNEA'] = 'No'\n",
    "data.loc[data['DYSPNEA'] == 'MODERATE EXERTION', 'DYSPNEA'] = 'Yes'\n",
    "data.loc[data['DYSPNEA'] == 'AT REST', 'DYSPNEA'] = 'Yes'\n",
    "\n",
    "data['DYSPNEA'].value_counts(normalize=False, dropna=False)"
   ]
  },
  {
   "cell_type": "code",
   "execution_count": null,
   "id": "e2133b45",
   "metadata": {},
   "outputs": [],
   "source": [
    "#Check data for diabetes status.\n",
    "\n",
    "data['DIABETES'].value_counts(normalize=False, dropna=False)"
   ]
  },
  {
   "cell_type": "code",
   "execution_count": null,
   "id": "161c1735",
   "metadata": {},
   "outputs": [],
   "source": [
    "#Simplify diabetes column.\n",
    "\n",
    "data.loc[data['DIABETES'] == 'NO', 'DIABETES'] = 'No'\n",
    "data.loc[data['DIABETES'] == 'NON-INSULIN', 'DIABETES'] = 'Yes'\n",
    "data.loc[data['DIABETES'] == 'INSULIN', 'DIABETES'] = 'Yes'\n",
    "\n",
    "data['DIABETES'].value_counts(normalize=False, dropna=False)"
   ]
  },
  {
   "cell_type": "code",
   "execution_count": null,
   "id": "d6c07db1",
   "metadata": {},
   "outputs": [],
   "source": [
    "#Cast ASA class as ordered categorical.\n",
    "\n",
    "cat_type1 = CategoricalDtype(categories=['1-No Disturb','2-Mild Disturb','3-Severe Disturb'], ordered=True)\n",
    "data['ASACLAS'].astype(cat_type1)"
   ]
  },
  {
   "cell_type": "code",
   "execution_count": null,
   "id": "ef1e1110",
   "metadata": {},
   "outputs": [],
   "source": [
    "#Cast functional status as ordered categorical.\n",
    "\n",
    "cat_type2 = CategoricalDtype(categories=['Unknown','Independent','Partiallly Dependent', 'Totally Dependent'], ordered=True)\n",
    "data['FNSTATUS2'].astype(cat_type2)"
   ]
  },
  {
   "cell_type": "code",
   "execution_count": null,
   "id": "a8969d62",
   "metadata": {},
   "outputs": [],
   "source": [
    "#Convert 90+ to 91 and AGE column to integer.\n",
    "\n",
    "data.loc[data['AGE'] == '90+', 'AGE'] = 91\n",
    "pd.to_numeric(data['AGE'], downcast='integer')"
   ]
  },
  {
   "cell_type": "code",
   "execution_count": null,
   "id": "11f5b235",
   "metadata": {},
   "outputs": [],
   "source": [
    "#Show patients for each CPT code.\n",
    "\n",
    "data['CPT'].value_counts()"
   ]
  },
  {
   "cell_type": "code",
   "execution_count": null,
   "id": "5da6956d",
   "metadata": {},
   "outputs": [],
   "source": [
    "#Classify tumors into extradural vs. intradural and create a column named 'IEDUR' for it.\n",
    "\n",
    "data.loc[data['CPT'] == 63275, 'IEDUR'] = 'Extradural'\n",
    "data.loc[data['CPT'] == 63276, 'IEDUR'] = 'Extradural'\n",
    "data.loc[data['CPT'] == 63277, 'IEDUR'] = 'Extradural'\n",
    "data.loc[data['CPT'] == 63278, 'IEDUR'] = 'Extradural'\n",
    "\n",
    "data.loc[data['CPT'] == 63280, 'IEDUR'] = 'Intradural'\n",
    "data.loc[data['CPT'] == 63281, 'IEDUR'] = 'Intradural'\n",
    "data.loc[data['CPT'] == 63282, 'IEDUR'] = 'Intradural'\n",
    "data.loc[data['CPT'] == 63283, 'IEDUR'] = 'Intradural'\n",
    "\n",
    "data.loc[data['CPT'] == 63285, 'IEDUR'] = 'Intradural'\n",
    "data.loc[data['CPT'] == 63286, 'IEDUR'] = 'Intradural'\n",
    "data.loc[data['CPT'] == 63287, 'IEDUR'] = 'Intradural'\n",
    "data.loc[data['CPT'] == 63290, 'IEDUR'] = 'Intradural'\n",
    "\n",
    "data.loc[data['CPT'] == 63300, 'IEDUR'] = 'Extradural'\n",
    "data.loc[data['CPT'] == 63301, 'IEDUR'] = 'Extradural'\n",
    "data.loc[data['CPT'] == 63302, 'IEDUR'] = 'Extradural'\n",
    "data.loc[data['CPT'] == 63303, 'IEDUR'] = 'Extradural'\n",
    "\n",
    "data.loc[data['CPT'] == 63304, 'IEDUR'] = 'Intradural'\n",
    "data.loc[data['CPT'] == 63305, 'IEDUR'] = 'Intradural'\n",
    "data.loc[data['CPT'] == 63306, 'IEDUR'] = 'Intradural'\n",
    "data.loc[data['CPT'] == 63307, 'IEDUR'] = 'Intradural'\n",
    "\n",
    "data.loc[data['CONCPT1'] == 63275, 'IEDUR'] = 'Extradural'\n",
    "data.loc[data['CONCPT1'] == 63276, 'IEDUR'] = 'Extradural'\n",
    "data.loc[data['CONCPT1'] == 63277, 'IEDUR'] = 'Extradural'\n",
    "data.loc[data['CONCPT1'] == 63278, 'IEDUR'] = 'Extradural'\n",
    "\n",
    "data.loc[data['CONCPT1'] == 63280, 'IEDUR'] = 'Intradural'\n",
    "data.loc[data['CONCPT1'] == 63281, 'IEDUR'] = 'Intradural'\n",
    "data.loc[data['CONCPT1'] == 63282, 'IEDUR'] = 'Intradural'\n",
    "data.loc[data['CONCPT1'] == 63283, 'IEDUR'] = 'Intradural'\n",
    "\n",
    "data.loc[data['CONCPT1'] == 63285, 'IEDUR'] = 'Intradural'\n",
    "data.loc[data['CONCPT1'] == 63286, 'IEDUR'] = 'Intradural'\n",
    "data.loc[data['CONCPT1'] == 63287, 'IEDUR'] = 'Intradural'\n",
    "data.loc[data['CONCPT1'] == 63290, 'IEDUR'] = 'Intradural'\n",
    "\n",
    "data.loc[data['CONCPT1'] == 63300, 'IEDUR'] = 'Extradural'\n",
    "data.loc[data['CONCPT1'] == 63301, 'IEDUR'] = 'Extradural'\n",
    "data.loc[data['CONCPT1'] == 63302, 'IEDUR'] = 'Extradural'\n",
    "data.loc[data['CONCPT1'] == 63303, 'IEDUR'] = 'Extradural'\n",
    "\n",
    "data.loc[data['CONCPT1'] == 63304, 'IEDUR'] = 'Intradural'\n",
    "data.loc[data['CONCPT1'] == 63305, 'IEDUR'] = 'Intradural'\n",
    "data.loc[data['CONCPT1'] == 63306, 'IEDUR'] = 'Intradural'\n",
    "data.loc[data['CONCPT1'] == 63307, 'IEDUR'] = 'Intradural'\n",
    "\n",
    "data.loc[data['CONCPT2'] == 63275, 'IEDUR'] = 'Extradural'\n",
    "data.loc[data['CONCPT2'] == 63276, 'IEDUR'] = 'Extradural'\n",
    "data.loc[data['CONCPT2'] == 63277, 'IEDUR'] = 'Extradural'\n",
    "data.loc[data['CONCPT2'] == 63278, 'IEDUR'] = 'Extradural'\n",
    "\n",
    "data.loc[data['CONCPT2'] == 63280, 'IEDUR'] = 'Intradural'\n",
    "data.loc[data['CONCPT2'] == 63281, 'IEDUR'] = 'Intradural'\n",
    "data.loc[data['CONCPT2'] == 63282, 'IEDUR'] = 'Intradural'\n",
    "data.loc[data['CONCPT2'] == 63283, 'IEDUR'] = 'Intradural'\n",
    "\n",
    "data.loc[data['CONCPT2'] == 63285, 'IEDUR'] = 'Intradural'\n",
    "data.loc[data['CONCPT2'] == 63286, 'IEDUR'] = 'Intradural'\n",
    "data.loc[data['CONCPT2'] == 63287, 'IEDUR'] = 'Intradural'\n",
    "data.loc[data['CONCPT2'] == 63290, 'IEDUR'] = 'Intradural'\n",
    "\n",
    "data.loc[data['CONCPT2'] == 63300, 'IEDUR'] = 'Extradural'\n",
    "data.loc[data['CONCPT2'] == 63301, 'IEDUR'] = 'Extradural'\n",
    "data.loc[data['CONCPT2'] == 63302, 'IEDUR'] = 'Extradural'\n",
    "data.loc[data['CONCPT2'] == 63303, 'IEDUR'] = 'Extradural'\n",
    "\n",
    "data.loc[data['CONCPT2'] == 63304, 'IEDUR'] = 'Intradural'\n",
    "data.loc[data['CONCPT2'] == 63305, 'IEDUR'] = 'Intradural'\n",
    "data.loc[data['CONCPT2'] == 63306, 'IEDUR'] = 'Intradural'\n",
    "data.loc[data['CONCPT2'] == 63307, 'IEDUR'] = 'Intradural'\n",
    "\n",
    "data.loc[data['CONCPT3'] == 63275, 'IEDUR'] = 'Extradural'\n",
    "data.loc[data['CONCPT3'] == 63276, 'IEDUR'] = 'Extradural'\n",
    "data.loc[data['CONCPT3'] == 63277, 'IEDUR'] = 'Extradural'\n",
    "data.loc[data['CONCPT3'] == 63278, 'IEDUR'] = 'Extradural'\n",
    "\n",
    "data.loc[data['CONCPT3'] == 63280, 'IEDUR'] = 'Intradural'\n",
    "data.loc[data['CONCPT3'] == 63281, 'IEDUR'] = 'Intradural'\n",
    "data.loc[data['CONCPT3'] == 63282, 'IEDUR'] = 'Intradural'\n",
    "data.loc[data['CONCPT3'] == 63283, 'IEDUR'] = 'Intradural'\n",
    "\n",
    "data.loc[data['CONCPT3'] == 63285, 'IEDUR'] = 'Intradural'\n",
    "data.loc[data['CONCPT3'] == 63286, 'IEDUR'] = 'Intradural'\n",
    "data.loc[data['CONCPT3'] == 63287, 'IEDUR'] = 'Intradural'\n",
    "data.loc[data['CONCPT3'] == 63290, 'IEDUR'] = 'Intradural'\n",
    "\n",
    "data.loc[data['CONCPT3'] == 63300, 'IEDUR'] = 'Extradural'\n",
    "data.loc[data['CONCPT3'] == 63301, 'IEDUR'] = 'Extradural'\n",
    "data.loc[data['CONCPT3'] == 63302, 'IEDUR'] = 'Extradural'\n",
    "data.loc[data['CONCPT3'] == 63303, 'IEDUR'] = 'Extradural'\n",
    "\n",
    "data.loc[data['CONCPT3'] == 63304, 'IEDUR'] = 'Intradural'\n",
    "data.loc[data['CONCPT3'] == 63305, 'IEDUR'] = 'Intradural'\n",
    "data.loc[data['CONCPT3'] == 63306, 'IEDUR'] = 'Intradural'\n",
    "data.loc[data['CONCPT3'] == 63307, 'IEDUR'] = 'Intradural'\n",
    "\n",
    "data.loc[data['CONCPT4'] == 63275, 'IEDUR'] = 'Extradural'\n",
    "data.loc[data['CONCPT4'] == 63276, 'IEDUR'] = 'Extradural'\n",
    "data.loc[data['CONCPT4'] == 63277, 'IEDUR'] = 'Extradural'\n",
    "data.loc[data['CONCPT4'] == 63278, 'IEDUR'] = 'Extradural'\n",
    "\n",
    "data.loc[data['CONCPT4'] == 63280, 'IEDUR'] = 'Intradural'\n",
    "data.loc[data['CONCPT4'] == 63281, 'IEDUR'] = 'Intradural'\n",
    "data.loc[data['CONCPT4'] == 63282, 'IEDUR'] = 'Intradural'\n",
    "data.loc[data['CONCPT4'] == 63283, 'IEDUR'] = 'Intradural'\n",
    "\n",
    "data.loc[data['CONCPT4'] == 63285, 'IEDUR'] = 'Intradural'\n",
    "data.loc[data['CONCPT4'] == 63286, 'IEDUR'] = 'Intradural'\n",
    "data.loc[data['CONCPT4'] == 63287, 'IEDUR'] = 'Intradural'\n",
    "data.loc[data['CONCPT4'] == 63290, 'IEDUR'] = 'Intradural'\n",
    "\n",
    "data.loc[data['CONCPT4'] == 63300, 'IEDUR'] = 'Extradural'\n",
    "data.loc[data['CONCPT4'] == 63301, 'IEDUR'] = 'Extradural'\n",
    "data.loc[data['CONCPT4'] == 63302, 'IEDUR'] = 'Extradural'\n",
    "data.loc[data['CONCPT4'] == 63303, 'IEDUR'] = 'Extradural'\n",
    "\n",
    "data.loc[data['CONCPT4'] == 63304, 'IEDUR'] = 'Intradural'\n",
    "data.loc[data['CONCPT4'] == 63305, 'IEDUR'] = 'Intradural'\n",
    "data.loc[data['CONCPT4'] == 63306, 'IEDUR'] = 'Intradural'\n",
    "data.loc[data['CONCPT4'] == 63307, 'IEDUR'] = 'Intradural'\n",
    "\n",
    "data.loc[data['CONCPT5'] == 63275, 'IEDUR'] = 'Extradural'\n",
    "data.loc[data['CONCPT5'] == 63276, 'IEDUR'] = 'Extradural'\n",
    "data.loc[data['CONCPT5'] == 63277, 'IEDUR'] = 'Extradural'\n",
    "data.loc[data['CONCPT5'] == 63278, 'IEDUR'] = 'Extradural'\n",
    "\n",
    "data.loc[data['CONCPT5'] == 63280, 'IEDUR'] = 'Intradural'\n",
    "data.loc[data['CONCPT5'] == 63281, 'IEDUR'] = 'Intradural'\n",
    "data.loc[data['CONCPT5'] == 63282, 'IEDUR'] = 'Intradural'\n",
    "data.loc[data['CONCPT5'] == 63283, 'IEDUR'] = 'Intradural'\n",
    "\n",
    "data.loc[data['CONCPT5'] == 63285, 'IEDUR'] = 'Intradural'\n",
    "data.loc[data['CONCPT5'] == 63286, 'IEDUR'] = 'Intradural'\n",
    "data.loc[data['CONCPT5'] == 63287, 'IEDUR'] = 'Intradural'\n",
    "data.loc[data['CONCPT5'] == 63290, 'IEDUR'] = 'Intradural'\n",
    "\n",
    "data.loc[data['CONCPT5'] == 63300, 'IEDUR'] = 'Extradural'\n",
    "data.loc[data['CONCPT5'] == 63301, 'IEDUR'] = 'Extradural'\n",
    "data.loc[data['CONCPT5'] == 63302, 'IEDUR'] = 'Extradural'\n",
    "data.loc[data['CONCPT5'] == 63303, 'IEDUR'] = 'Extradural'\n",
    "\n",
    "data.loc[data['CONCPT5'] == 63304, 'IEDUR'] = 'Intradural'\n",
    "data.loc[data['CONCPT5'] == 63305, 'IEDUR'] = 'Intradural'\n",
    "data.loc[data['CONCPT5'] == 63306, 'IEDUR'] = 'Intradural'\n",
    "data.loc[data['CONCPT5'] == 63307, 'IEDUR'] = 'Intradural'\n",
    "\n",
    "data.loc[data['CONCPT6'] == 63275, 'IEDUR'] = 'Extradural'\n",
    "data.loc[data['CONCPT6'] == 63276, 'IEDUR'] = 'Extradural'\n",
    "data.loc[data['CONCPT6'] == 63277, 'IEDUR'] = 'Extradural'\n",
    "data.loc[data['CONCPT6'] == 63278, 'IEDUR'] = 'Extradural'\n",
    "\n",
    "data.loc[data['CONCPT6'] == 63280, 'IEDUR'] = 'Intradural'\n",
    "data.loc[data['CONCPT6'] == 63281, 'IEDUR'] = 'Intradural'\n",
    "data.loc[data['CONCPT6'] == 63282, 'IEDUR'] = 'Intradural'\n",
    "data.loc[data['CONCPT6'] == 63283, 'IEDUR'] = 'Intradural'\n",
    "\n",
    "data.loc[data['CONCPT6'] == 63285, 'IEDUR'] = 'Intradural'\n",
    "data.loc[data['CONCPT6'] == 63286, 'IEDUR'] = 'Intradural'\n",
    "data.loc[data['CONCPT6'] == 63287, 'IEDUR'] = 'Intradural'\n",
    "data.loc[data['CONCPT6'] == 63290, 'IEDUR'] = 'Intradural'\n",
    "\n",
    "data.loc[data['CONCPT6'] == 63300, 'IEDUR'] = 'Extradural'\n",
    "data.loc[data['CONCPT6'] == 63301, 'IEDUR'] = 'Extradural'\n",
    "data.loc[data['CONCPT6'] == 63302, 'IEDUR'] = 'Extradural'\n",
    "data.loc[data['CONCPT6'] == 63303, 'IEDUR'] = 'Extradural'\n",
    "\n",
    "data.loc[data['CONCPT6'] == 63304, 'IEDUR'] = 'Intradural'\n",
    "data.loc[data['CONCPT6'] == 63305, 'IEDUR'] = 'Intradural'\n",
    "data.loc[data['CONCPT6'] == 63306, 'IEDUR'] = 'Intradural'\n",
    "data.loc[data['CONCPT6'] == 63307, 'IEDUR'] = 'Intradural'\n",
    "\n",
    "data.loc[data['CONCPT7'] == 63275, 'IEDUR'] = 'Extradural'\n",
    "data.loc[data['CONCPT7'] == 63276, 'IEDUR'] = 'Extradural'\n",
    "data.loc[data['CONCPT7'] == 63277, 'IEDUR'] = 'Extradural'\n",
    "data.loc[data['CONCPT7'] == 63278, 'IEDUR'] = 'Extradural'\n",
    "\n",
    "data.loc[data['CONCPT7'] == 63280, 'IEDUR'] = 'Intradural'\n",
    "data.loc[data['CONCPT7'] == 63281, 'IEDUR'] = 'Intradural'\n",
    "data.loc[data['CONCPT7'] == 63282, 'IEDUR'] = 'Intradural'\n",
    "data.loc[data['CONCPT7'] == 63283, 'IEDUR'] = 'Intradural'\n",
    "\n",
    "data.loc[data['CONCPT7'] == 63285, 'IEDUR'] = 'Intradural'\n",
    "data.loc[data['CONCPT7'] == 63286, 'IEDUR'] = 'Intradural'\n",
    "data.loc[data['CONCPT7'] == 63287, 'IEDUR'] = 'Intradural'\n",
    "data.loc[data['CONCPT7'] == 63290, 'IEDUR'] = 'Intradural'\n",
    "\n",
    "data.loc[data['CONCPT7'] == 63300, 'IEDUR'] = 'Extradural'\n",
    "data.loc[data['CONCPT7'] == 63301, 'IEDUR'] = 'Extradural'\n",
    "data.loc[data['CONCPT7'] == 63302, 'IEDUR'] = 'Extradural'\n",
    "data.loc[data['CONCPT7'] == 63303, 'IEDUR'] = 'Extradural'\n",
    "\n",
    "data.loc[data['CONCPT7'] == 63304, 'IEDUR'] = 'Intradural'\n",
    "data.loc[data['CONCPT7'] == 63305, 'IEDUR'] = 'Intradural'\n",
    "data.loc[data['CONCPT7'] == 63306, 'IEDUR'] = 'Intradural'\n",
    "data.loc[data['CONCPT7'] == 63307, 'IEDUR'] = 'Intradural'\n",
    "\n",
    "data.loc[data['CONCPT8'] == 63275, 'IEDUR'] = 'Extradural'\n",
    "data.loc[data['CONCPT8'] == 63276, 'IEDUR'] = 'Extradural'\n",
    "data.loc[data['CONCPT8'] == 63277, 'IEDUR'] = 'Extradural'\n",
    "data.loc[data['CONCPT8'] == 63278, 'IEDUR'] = 'Extradural'\n",
    "\n",
    "data.loc[data['CONCPT8'] == 63280, 'IEDUR'] = 'Intradural'\n",
    "data.loc[data['CONCPT8'] == 63281, 'IEDUR'] = 'Intradural'\n",
    "data.loc[data['CONCPT8'] == 63282, 'IEDUR'] = 'Intradural'\n",
    "data.loc[data['CONCPT8'] == 63283, 'IEDUR'] = 'Intradural'\n",
    "\n",
    "data.loc[data['CONCPT8'] == 63285, 'IEDUR'] = 'Intradural'\n",
    "data.loc[data['CONCPT8'] == 63286, 'IEDUR'] = 'Intradural'\n",
    "data.loc[data['CONCPT8'] == 63287, 'IEDUR'] = 'Intradural'\n",
    "data.loc[data['CONCPT8'] == 63290, 'IEDUR'] = 'Intradural'\n",
    "\n",
    "data.loc[data['CONCPT8'] == 63300, 'IEDUR'] = 'Extradural'\n",
    "data.loc[data['CONCPT8'] == 63301, 'IEDUR'] = 'Extradural'\n",
    "data.loc[data['CONCPT8'] == 63302, 'IEDUR'] = 'Extradural'\n",
    "data.loc[data['CONCPT8'] == 63303, 'IEDUR'] = 'Extradural'\n",
    "\n",
    "data.loc[data['CONCPT8'] == 63304, 'IEDUR'] = 'Intradural'\n",
    "data.loc[data['CONCPT8'] == 63305, 'IEDUR'] = 'Intradural'\n",
    "data.loc[data['CONCPT8'] == 63306, 'IEDUR'] = 'Intradural'\n",
    "data.loc[data['CONCPT8'] == 63307, 'IEDUR'] = 'Intradural'\n",
    "\n",
    "data.loc[data['CONCPT9'] == 63275, 'IEDUR'] = 'Extradural'\n",
    "data.loc[data['CONCPT9'] == 63276, 'IEDUR'] = 'Extradural'\n",
    "data.loc[data['CONCPT9'] == 63277, 'IEDUR'] = 'Extradural'\n",
    "data.loc[data['CONCPT9'] == 63278, 'IEDUR'] = 'Extradural'\n",
    "\n",
    "data.loc[data['CONCPT9'] == 63280, 'IEDUR'] = 'Intradural'\n",
    "data.loc[data['CONCPT9'] == 63281, 'IEDUR'] = 'Intradural'\n",
    "data.loc[data['CONCPT9'] == 63282, 'IEDUR'] = 'Intradural'\n",
    "data.loc[data['CONCPT9'] == 63283, 'IEDUR'] = 'Intradural'\n",
    "\n",
    "data.loc[data['CONCPT9'] == 63285, 'IEDUR'] = 'Intradural'\n",
    "data.loc[data['CONCPT9'] == 63286, 'IEDUR'] = 'Intradural'\n",
    "data.loc[data['CONCPT9'] == 63287, 'IEDUR'] = 'Intradural'\n",
    "data.loc[data['CONCPT9'] == 63290, 'IEDUR'] = 'Intradural'\n",
    "\n",
    "data.loc[data['CONCPT9'] == 63300, 'IEDUR'] = 'Extradural'\n",
    "data.loc[data['CONCPT9'] == 63301, 'IEDUR'] = 'Extradural'\n",
    "data.loc[data['CONCPT9'] == 63302, 'IEDUR'] = 'Extradural'\n",
    "data.loc[data['CONCPT9'] == 63303, 'IEDUR'] = 'Extradural'\n",
    "\n",
    "data.loc[data['CONCPT9'] == 63304, 'IEDUR'] = 'Intradural'\n",
    "data.loc[data['CONCPT9'] == 63305, 'IEDUR'] = 'Intradural'\n",
    "data.loc[data['CONCPT9'] == 63306, 'IEDUR'] = 'Intradural'\n",
    "data.loc[data['CONCPT9'] == 63307, 'IEDUR'] = 'Intradural'\n",
    "\n",
    "data.loc[data['CONCPT10'] == 63275, 'IEDUR'] = 'Extradural'\n",
    "data.loc[data['CONCPT10'] == 63276, 'IEDUR'] = 'Extradural'\n",
    "data.loc[data['CONCPT10'] == 63277, 'IEDUR'] = 'Extradural'\n",
    "data.loc[data['CONCPT10'] == 63278, 'IEDUR'] = 'Extradural'\n",
    "\n",
    "data.loc[data['CONCPT10'] == 63280, 'IEDUR'] = 'Intradural'\n",
    "data.loc[data['CONCPT10'] == 63281, 'IEDUR'] = 'Intradural'\n",
    "data.loc[data['CONCPT10'] == 63282, 'IEDUR'] = 'Intradural'\n",
    "data.loc[data['CONCPT10'] == 63283, 'IEDUR'] = 'Intradural'\n",
    "\n",
    "data.loc[data['CONCPT10'] == 63285, 'IEDUR'] = 'Intradural'\n",
    "data.loc[data['CONCPT10'] == 63286, 'IEDUR'] = 'Intradural'\n",
    "data.loc[data['CONCPT10'] == 63287, 'IEDUR'] = 'Intradural'\n",
    "data.loc[data['CONCPT10'] == 63290, 'IEDUR'] = 'Intradural'\n",
    "\n",
    "data.loc[data['CONCPT10'] == 63300, 'IEDUR'] = 'Extradural'\n",
    "data.loc[data['CONCPT10'] == 63301, 'IEDUR'] = 'Extradural'\n",
    "data.loc[data['CONCPT10'] == 63302, 'IEDUR'] = 'Extradural'\n",
    "data.loc[data['CONCPT10'] == 63303, 'IEDUR'] = 'Extradural'\n",
    "\n",
    "data.loc[data['CONCPT10'] == 63304, 'IEDUR'] = 'Intradural'\n",
    "data.loc[data['CONCPT10'] == 63305, 'IEDUR'] = 'Intradural'\n",
    "data.loc[data['CONCPT10'] == 63306, 'IEDUR'] = 'Intradural'\n",
    "data.loc[data['CONCPT10'] == 63307, 'IEDUR'] = 'Intradural'\n",
    "\n",
    "data.loc[data['OTHERCPT1'] == 63275, 'IEDUR'] = 'Extradural'\n",
    "data.loc[data['OTHERCPT1'] == 63276, 'IEDUR'] = 'Extradural'\n",
    "data.loc[data['OTHERCPT1'] == 63277, 'IEDUR'] = 'Extradural'\n",
    "data.loc[data['OTHERCPT1'] == 63278, 'IEDUR'] = 'Extradural'\n",
    "\n",
    "data.loc[data['OTHERCPT1'] == 63280, 'IEDUR'] = 'Intradural'\n",
    "data.loc[data['OTHERCPT1'] == 63281, 'IEDUR'] = 'Intradural'\n",
    "data.loc[data['OTHERCPT1'] == 63282, 'IEDUR'] = 'Intradural'\n",
    "data.loc[data['OTHERCPT1'] == 63283, 'IEDUR'] = 'Intradural'\n",
    "\n",
    "data.loc[data['OTHERCPT1'] == 63285, 'IEDUR'] = 'Intradural'\n",
    "data.loc[data['OTHERCPT1'] == 63286, 'IEDUR'] = 'Intradural'\n",
    "data.loc[data['OTHERCPT1'] == 63287, 'IEDUR'] = 'Intradural'\n",
    "data.loc[data['OTHERCPT1'] == 63290, 'IEDUR'] = 'Intradural'\n",
    "\n",
    "data.loc[data['OTHERCPT1'] == 63300, 'IEDUR'] = 'Extradural'\n",
    "data.loc[data['OTHERCPT1'] == 63301, 'IEDUR'] = 'Extradural'\n",
    "data.loc[data['OTHERCPT1'] == 63302, 'IEDUR'] = 'Extradural'\n",
    "data.loc[data['OTHERCPT1'] == 63303, 'IEDUR'] = 'Extradural'\n",
    "\n",
    "data.loc[data['OTHERCPT1'] == 63304, 'IEDUR'] = 'Intradural'\n",
    "data.loc[data['OTHERCPT1'] == 63305, 'IEDUR'] = 'Intradural'\n",
    "data.loc[data['OTHERCPT1'] == 63306, 'IEDUR'] = 'Intradural'\n",
    "data.loc[data['OTHERCPT1'] == 63307, 'IEDUR'] = 'Intradural'\n",
    "\n",
    "data.loc[data['OTHERCPT2'] == 63275, 'IEDUR'] = 'Extradural'\n",
    "data.loc[data['OTHERCPT2'] == 63276, 'IEDUR'] = 'Extradural'\n",
    "data.loc[data['OTHERCPT2'] == 63277, 'IEDUR'] = 'Extradural'\n",
    "data.loc[data['OTHERCPT2'] == 63278, 'IEDUR'] = 'Extradural'\n",
    "\n",
    "data.loc[data['OTHERCPT2'] == 63280, 'IEDUR'] = 'Intradural'\n",
    "data.loc[data['OTHERCPT2'] == 63281, 'IEDUR'] = 'Intradural'\n",
    "data.loc[data['OTHERCPT2'] == 63282, 'IEDUR'] = 'Intradural'\n",
    "data.loc[data['OTHERCPT2'] == 63283, 'IEDUR'] = 'Intradural'\n",
    "\n",
    "data.loc[data['OTHERCPT2'] == 63285, 'IEDUR'] = 'Intradural'\n",
    "data.loc[data['OTHERCPT2'] == 63286, 'IEDUR'] = 'Intradural'\n",
    "data.loc[data['OTHERCPT2'] == 63287, 'IEDUR'] = 'Intradural'\n",
    "data.loc[data['OTHERCPT2'] == 63290, 'IEDUR'] = 'Intradural'\n",
    "\n",
    "data.loc[data['OTHERCPT2'] == 63300, 'IEDUR'] = 'Extradural'\n",
    "data.loc[data['OTHERCPT2'] == 63301, 'IEDUR'] = 'Extradural'\n",
    "data.loc[data['OTHERCPT2'] == 63302, 'IEDUR'] = 'Extradural'\n",
    "data.loc[data['OTHERCPT2'] == 63303, 'IEDUR'] = 'Extradural'\n",
    "\n",
    "data.loc[data['OTHERCPT2'] == 63304, 'IEDUR'] = 'Intradural'\n",
    "data.loc[data['OTHERCPT2'] == 63305, 'IEDUR'] = 'Intradural'\n",
    "data.loc[data['OTHERCPT2'] == 63306, 'IEDUR'] = 'Intradural'\n",
    "data.loc[data['OTHERCPT2'] == 63307, 'IEDUR'] = 'Intradural'\n",
    "\n",
    "data.loc[data['OTHERCPT3'] == 63275, 'IEDUR'] = 'Extradural'\n",
    "data.loc[data['OTHERCPT3'] == 63276, 'IEDUR'] = 'Extradural'\n",
    "data.loc[data['OTHERCPT3'] == 63277, 'IEDUR'] = 'Extradural'\n",
    "data.loc[data['OTHERCPT3'] == 63278, 'IEDUR'] = 'Extradural'\n",
    "\n",
    "data.loc[data['OTHERCPT3'] == 63280, 'IEDUR'] = 'Intradural'\n",
    "data.loc[data['OTHERCPT3'] == 63281, 'IEDUR'] = 'Intradural'\n",
    "data.loc[data['OTHERCPT3'] == 63282, 'IEDUR'] = 'Intradural'\n",
    "data.loc[data['OTHERCPT3'] == 63283, 'IEDUR'] = 'Intradural'\n",
    "\n",
    "data.loc[data['OTHERCPT3'] == 63285, 'IEDUR'] = 'Intradural'\n",
    "data.loc[data['OTHERCPT3'] == 63286, 'IEDUR'] = 'Intradural'\n",
    "data.loc[data['OTHERCPT3'] == 63287, 'IEDUR'] = 'Intradural'\n",
    "data.loc[data['OTHERCPT3'] == 63290, 'IEDUR'] = 'Intradural'\n",
    "\n",
    "data.loc[data['OTHERCPT3'] == 63300, 'IEDUR'] = 'Extradural'\n",
    "data.loc[data['OTHERCPT3'] == 63301, 'IEDUR'] = 'Extradural'\n",
    "data.loc[data['OTHERCPT3'] == 63302, 'IEDUR'] = 'Extradural'\n",
    "data.loc[data['OTHERCPT3'] == 63303, 'IEDUR'] = 'Extradural'\n",
    "\n",
    "data.loc[data['OTHERCPT3'] == 63304, 'IEDUR'] = 'Intradural'\n",
    "data.loc[data['OTHERCPT3'] == 63305, 'IEDUR'] = 'Intradural'\n",
    "data.loc[data['OTHERCPT3'] == 63306, 'IEDUR'] = 'Intradural'\n",
    "data.loc[data['OTHERCPT3'] == 63307, 'IEDUR'] = 'Intradural'\n",
    "\n",
    "data.loc[data['OTHERCPT4'] == 63275, 'IEDUR'] = 'Extradural'\n",
    "data.loc[data['OTHERCPT4'] == 63276, 'IEDUR'] = 'Extradural'\n",
    "data.loc[data['OTHERCPT4'] == 63277, 'IEDUR'] = 'Extradural'\n",
    "data.loc[data['OTHERCPT4'] == 63278, 'IEDUR'] = 'Extradural'\n",
    "\n",
    "data.loc[data['OTHERCPT4'] == 63280, 'IEDUR'] = 'Intradural'\n",
    "data.loc[data['OTHERCPT4'] == 63281, 'IEDUR'] = 'Intradural'\n",
    "data.loc[data['OTHERCPT4'] == 63282, 'IEDUR'] = 'Intradural'\n",
    "data.loc[data['OTHERCPT4'] == 63283, 'IEDUR'] = 'Intradural'\n",
    "\n",
    "data.loc[data['OTHERCPT4'] == 63285, 'IEDUR'] = 'Intradural'\n",
    "data.loc[data['OTHERCPT4'] == 63286, 'IEDUR'] = 'Intradural'\n",
    "data.loc[data['OTHERCPT4'] == 63287, 'IEDUR'] = 'Intradural'\n",
    "data.loc[data['OTHERCPT4'] == 63290, 'IEDUR'] = 'Intradural'\n",
    "\n",
    "data.loc[data['OTHERCPT4'] == 63300, 'IEDUR'] = 'Extradural'\n",
    "data.loc[data['OTHERCPT4'] == 63301, 'IEDUR'] = 'Extradural'\n",
    "data.loc[data['OTHERCPT4'] == 63302, 'IEDUR'] = 'Extradural'\n",
    "data.loc[data['OTHERCPT4'] == 63303, 'IEDUR'] = 'Extradural'\n",
    "\n",
    "data.loc[data['OTHERCPT4'] == 63304, 'IEDUR'] = 'Intradural'\n",
    "data.loc[data['OTHERCPT4'] == 63305, 'IEDUR'] = 'Intradural'\n",
    "data.loc[data['OTHERCPT4'] == 63306, 'IEDUR'] = 'Intradural'\n",
    "data.loc[data['OTHERCPT4'] == 63307, 'IEDUR'] = 'Intradural'\n",
    "\n",
    "data.loc[data['OTHERCPT5'] == 63275, 'IEDUR'] = 'Extradural'\n",
    "data.loc[data['OTHERCPT5'] == 63276, 'IEDUR'] = 'Extradural'\n",
    "data.loc[data['OTHERCPT5'] == 63277, 'IEDUR'] = 'Extradural'\n",
    "data.loc[data['OTHERCPT5'] == 63278, 'IEDUR'] = 'Extradural'\n",
    "\n",
    "data.loc[data['OTHERCPT5'] == 63280, 'IEDUR'] = 'Intradural'\n",
    "data.loc[data['OTHERCPT5'] == 63281, 'IEDUR'] = 'Intradural'\n",
    "data.loc[data['OTHERCPT5'] == 63282, 'IEDUR'] = 'Intradural'\n",
    "data.loc[data['OTHERCPT5'] == 63283, 'IEDUR'] = 'Intradural'\n",
    "\n",
    "data.loc[data['OTHERCPT5'] == 63285, 'IEDUR'] = 'Intradural'\n",
    "data.loc[data['OTHERCPT5'] == 63286, 'IEDUR'] = 'Intradural'\n",
    "data.loc[data['OTHERCPT5'] == 63287, 'IEDUR'] = 'Intradural'\n",
    "data.loc[data['OTHERCPT5'] == 63290, 'IEDUR'] = 'Intradural'\n",
    "\n",
    "data.loc[data['OTHERCPT5'] == 63300, 'IEDUR'] = 'Extradural'\n",
    "data.loc[data['OTHERCPT5'] == 63301, 'IEDUR'] = 'Extradural'\n",
    "data.loc[data['OTHERCPT5'] == 63302, 'IEDUR'] = 'Extradural'\n",
    "data.loc[data['OTHERCPT5'] == 63303, 'IEDUR'] = 'Extradural'\n",
    "\n",
    "data.loc[data['OTHERCPT5'] == 63304, 'IEDUR'] = 'Intradural'\n",
    "data.loc[data['OTHERCPT5'] == 63305, 'IEDUR'] = 'Intradural'\n",
    "data.loc[data['OTHERCPT5'] == 63306, 'IEDUR'] = 'Intradural'\n",
    "data.loc[data['OTHERCPT5'] == 63307, 'IEDUR'] = 'Intradural'\n",
    "\n",
    "data.loc[data['OTHERCPT6'] == 63275, 'IEDUR'] = 'Extradural'\n",
    "data.loc[data['OTHERCPT6'] == 63276, 'IEDUR'] = 'Extradural'\n",
    "data.loc[data['OTHERCPT6'] == 63277, 'IEDUR'] = 'Extradural'\n",
    "data.loc[data['OTHERCPT6'] == 63278, 'IEDUR'] = 'Extradural'\n",
    "\n",
    "data.loc[data['OTHERCPT6'] == 63280, 'IEDUR'] = 'Intradural'\n",
    "data.loc[data['OTHERCPT6'] == 63281, 'IEDUR'] = 'Intradural'\n",
    "data.loc[data['OTHERCPT6'] == 63282, 'IEDUR'] = 'Intradural'\n",
    "data.loc[data['OTHERCPT6'] == 63283, 'IEDUR'] = 'Intradural'\n",
    "\n",
    "data.loc[data['OTHERCPT6'] == 63285, 'IEDUR'] = 'Intradural'\n",
    "data.loc[data['OTHERCPT6'] == 63286, 'IEDUR'] = 'Intradural'\n",
    "data.loc[data['OTHERCPT6'] == 63287, 'IEDUR'] = 'Intradural'\n",
    "data.loc[data['OTHERCPT6'] == 63290, 'IEDUR'] = 'Intradural'\n",
    "\n",
    "data.loc[data['OTHERCPT6'] == 63300, 'IEDUR'] = 'Extradural'\n",
    "data.loc[data['OTHERCPT6'] == 63301, 'IEDUR'] = 'Extradural'\n",
    "data.loc[data['OTHERCPT6'] == 63302, 'IEDUR'] = 'Extradural'\n",
    "data.loc[data['OTHERCPT6'] == 63303, 'IEDUR'] = 'Extradural'\n",
    "\n",
    "data.loc[data['OTHERCPT6'] == 63304, 'IEDUR'] = 'Intradural'\n",
    "data.loc[data['OTHERCPT6'] == 63305, 'IEDUR'] = 'Intradural'\n",
    "data.loc[data['OTHERCPT6'] == 63306, 'IEDUR'] = 'Intradural'\n",
    "data.loc[data['OTHERCPT6'] == 63307, 'IEDUR'] = 'Intradural'\n",
    "\n",
    "data.loc[data['OTHERCPT7'] == 63275, 'IEDUR'] = 'Extradural'\n",
    "data.loc[data['OTHERCPT7'] == 63276, 'IEDUR'] = 'Extradural'\n",
    "data.loc[data['OTHERCPT7'] == 63277, 'IEDUR'] = 'Extradural'\n",
    "data.loc[data['OTHERCPT7'] == 63278, 'IEDUR'] = 'Extradural'\n",
    "\n",
    "data.loc[data['OTHERCPT7'] == 63280, 'IEDUR'] = 'Intradural'\n",
    "data.loc[data['OTHERCPT7'] == 63281, 'IEDUR'] = 'Intradural'\n",
    "data.loc[data['OTHERCPT7'] == 63282, 'IEDUR'] = 'Intradural'\n",
    "data.loc[data['OTHERCPT7'] == 63283, 'IEDUR'] = 'Intradural'\n",
    "\n",
    "data.loc[data['OTHERCPT7'] == 63285, 'IEDUR'] = 'Intradural'\n",
    "data.loc[data['OTHERCPT7'] == 63286, 'IEDUR'] = 'Intradural'\n",
    "data.loc[data['OTHERCPT7'] == 63287, 'IEDUR'] = 'Intradural'\n",
    "data.loc[data['OTHERCPT7'] == 63290, 'IEDUR'] = 'Intradural'\n",
    "\n",
    "data.loc[data['OTHERCPT7'] == 63300, 'IEDUR'] = 'Extradural'\n",
    "data.loc[data['OTHERCPT7'] == 63301, 'IEDUR'] = 'Extradural'\n",
    "data.loc[data['OTHERCPT7'] == 63302, 'IEDUR'] = 'Extradural'\n",
    "data.loc[data['OTHERCPT7'] == 63303, 'IEDUR'] = 'Extradural'\n",
    "\n",
    "data.loc[data['OTHERCPT7'] == 63304, 'IEDUR'] = 'Intradural'\n",
    "data.loc[data['OTHERCPT7'] == 63305, 'IEDUR'] = 'Intradural'\n",
    "data.loc[data['OTHERCPT7'] == 63306, 'IEDUR'] = 'Intradural'\n",
    "data.loc[data['OTHERCPT7'] == 63307, 'IEDUR'] = 'Intradural'\n",
    "\n",
    "data.loc[data['OTHERCPT8'] == 63275, 'IEDUR'] = 'Extradural'\n",
    "data.loc[data['OTHERCPT8'] == 63276, 'IEDUR'] = 'Extradural'\n",
    "data.loc[data['OTHERCPT8'] == 63277, 'IEDUR'] = 'Extradural'\n",
    "data.loc[data['OTHERCPT8'] == 63278, 'IEDUR'] = 'Extradural'\n",
    "\n",
    "data.loc[data['OTHERCPT8'] == 63280, 'IEDUR'] = 'Intradural'\n",
    "data.loc[data['OTHERCPT8'] == 63281, 'IEDUR'] = 'Intradural'\n",
    "data.loc[data['OTHERCPT8'] == 63282, 'IEDUR'] = 'Intradural'\n",
    "data.loc[data['OTHERCPT8'] == 63283, 'IEDUR'] = 'Intradural'\n",
    "\n",
    "data.loc[data['OTHERCPT8'] == 63285, 'IEDUR'] = 'Intradural'\n",
    "data.loc[data['OTHERCPT8'] == 63286, 'IEDUR'] = 'Intradural'\n",
    "data.loc[data['OTHERCPT8'] == 63287, 'IEDUR'] = 'Intradural'\n",
    "data.loc[data['OTHERCPT8'] == 63290, 'IEDUR'] = 'Intradural'\n",
    "\n",
    "data.loc[data['OTHERCPT8'] == 63300, 'IEDUR'] = 'Extradural'\n",
    "data.loc[data['OTHERCPT8'] == 63301, 'IEDUR'] = 'Extradural'\n",
    "data.loc[data['OTHERCPT8'] == 63302, 'IEDUR'] = 'Extradural'\n",
    "data.loc[data['OTHERCPT8'] == 63303, 'IEDUR'] = 'Extradural'\n",
    "\n",
    "data.loc[data['OTHERCPT8'] == 63304, 'IEDUR'] = 'Intradural'\n",
    "data.loc[data['OTHERCPT8'] == 63305, 'IEDUR'] = 'Intradural'\n",
    "data.loc[data['OTHERCPT8'] == 63306, 'IEDUR'] = 'Intradural'\n",
    "data.loc[data['OTHERCPT8'] == 63307, 'IEDUR'] = 'Intradural'\n",
    "\n",
    "data.loc[data['OTHERCPT9'] == 63275, 'IEDUR'] = 'Extradural'\n",
    "data.loc[data['OTHERCPT9'] == 63276, 'IEDUR'] = 'Extradural'\n",
    "data.loc[data['OTHERCPT9'] == 63277, 'IEDUR'] = 'Extradural'\n",
    "data.loc[data['OTHERCPT9'] == 63278, 'IEDUR'] = 'Extradural'\n",
    "\n",
    "data.loc[data['OTHERCPT9'] == 63280, 'IEDUR'] = 'Intradural'\n",
    "data.loc[data['OTHERCPT9'] == 63281, 'IEDUR'] = 'Intradural'\n",
    "data.loc[data['OTHERCPT9'] == 63282, 'IEDUR'] = 'Intradural'\n",
    "data.loc[data['OTHERCPT9'] == 63283, 'IEDUR'] = 'Intradural'\n",
    "\n",
    "data.loc[data['OTHERCPT9'] == 63285, 'IEDUR'] = 'Intradural'\n",
    "data.loc[data['OTHERCPT9'] == 63286, 'IEDUR'] = 'Intradural'\n",
    "data.loc[data['OTHERCPT9'] == 63287, 'IEDUR'] = 'Intradural'\n",
    "data.loc[data['OTHERCPT9'] == 63290, 'IEDUR'] = 'Intradural'\n",
    "\n",
    "data.loc[data['OTHERCPT9'] == 63300, 'IEDUR'] = 'Extradural'\n",
    "data.loc[data['OTHERCPT9'] == 63301, 'IEDUR'] = 'Extradural'\n",
    "data.loc[data['OTHERCPT9'] == 63302, 'IEDUR'] = 'Extradural'\n",
    "data.loc[data['OTHERCPT9'] == 63303, 'IEDUR'] = 'Extradural'\n",
    "\n",
    "data.loc[data['OTHERCPT9'] == 63304, 'IEDUR'] = 'Intradural'\n",
    "data.loc[data['OTHERCPT9'] == 63305, 'IEDUR'] = 'Intradural'\n",
    "data.loc[data['OTHERCPT9'] == 63306, 'IEDUR'] = 'Intradural'\n",
    "data.loc[data['OTHERCPT9'] == 63307, 'IEDUR'] = 'Intradural'\n",
    "\n",
    "data.loc[data['OTHERCPT10'] == 63275, 'IEDUR'] = 'Extradural'\n",
    "data.loc[data['OTHERCPT10'] == 63276, 'IEDUR'] = 'Extradural'\n",
    "data.loc[data['OTHERCPT10'] == 63277, 'IEDUR'] = 'Extradural'\n",
    "data.loc[data['OTHERCPT10'] == 63278, 'IEDUR'] = 'Extradural'\n",
    "\n",
    "data.loc[data['OTHERCPT10'] == 63280, 'IEDUR'] = 'Intradural'\n",
    "data.loc[data['OTHERCPT10'] == 63281, 'IEDUR'] = 'Intradural'\n",
    "data.loc[data['OTHERCPT10'] == 63282, 'IEDUR'] = 'Intradural'\n",
    "data.loc[data['OTHERCPT10'] == 63283, 'IEDUR'] = 'Intradural'\n",
    "\n",
    "data.loc[data['OTHERCPT10'] == 63285, 'IEDUR'] = 'Intradural'\n",
    "data.loc[data['OTHERCPT10'] == 63286, 'IEDUR'] = 'Intradural'\n",
    "data.loc[data['OTHERCPT10'] == 63287, 'IEDUR'] = 'Intradural'\n",
    "data.loc[data['OTHERCPT10'] == 63290, 'IEDUR'] = 'Intradural'\n",
    "\n",
    "data.loc[data['OTHERCPT10'] == 63300, 'IEDUR'] = 'Extradural'\n",
    "data.loc[data['OTHERCPT10'] == 63301, 'IEDUR'] = 'Extradural'\n",
    "data.loc[data['OTHERCPT10'] == 63302, 'IEDUR'] = 'Extradural'\n",
    "data.loc[data['OTHERCPT10'] == 63303, 'IEDUR'] = 'Extradural'\n",
    "\n",
    "data.loc[data['OTHERCPT10'] == 63304, 'IEDUR'] = 'Intradural'\n",
    "data.loc[data['OTHERCPT10'] == 63305, 'IEDUR'] = 'Intradural'\n",
    "data.loc[data['OTHERCPT10'] == 63306, 'IEDUR'] = 'Intradural'\n",
    "data.loc[data['OTHERCPT10'] == 63307, 'IEDUR'] = 'Intradural'\n",
    "\n",
    "data['IEDUR'].value_counts(dropna=False)"
   ]
  },
  {
   "cell_type": "code",
   "execution_count": null,
   "id": "c55f025c",
   "metadata": {},
   "outputs": [],
   "source": [
    "#Simplify CPT codes and assign other CPT codes as 'other'.\n",
    "\n",
    "data.loc[data['CPT'] == 63275, 'CPTx'] = '63275'\n",
    "data.loc[data['CPT'] == 63276, 'CPTx'] = '63276'\n",
    "data.loc[data['CPT'] == 63277, 'CPTx'] = '63277'\n",
    "data.loc[data['CPT'] == 63278, 'CPTx'] = '63278'\n",
    "data.loc[data['CPT'] == 63280, 'CPTx'] = '63280'\n",
    "data.loc[data['CPT'] == 63281, 'CPTx'] = '63281'\n",
    "data.loc[data['CPT'] == 63282, 'CPTx'] = '63282'\n",
    "data.loc[data['CPT'] == 63283, 'CPTx'] = '63283'\n",
    "data.loc[data['CPT'] == 63285, 'CPTx'] = '63285'\n",
    "data.loc[data['CPT'] == 63286, 'CPTx'] = '63286'\n",
    "data.loc[data['CPT'] == 63287, 'CPTx'] = '63287'\n",
    "data.loc[data['CPT'] == 63290, 'CPTx'] = '63290'\n",
    "data.loc[data['CPT'] == 63300, 'CPTx'] = '63300'\n",
    "data.loc[data['CPT'] == 63301, 'CPTx'] = '63301'\n",
    "data.loc[data['CPT'] == 63302, 'CPTx'] = '63302'\n",
    "data.loc[data['CPT'] == 63303, 'CPTx'] = '63303'\n",
    "data.loc[data['CPT'] == 63304, 'CPTx'] = '63304'\n",
    "data.loc[data['CPT'] == 63305, 'CPTx'] = '63305'\n",
    "data.loc[data['CPT'] == 63306, 'CPTx'] = '63306'\n",
    "data.loc[data['CPT'] == 63307, 'CPTx'] = '63307'\n",
    "\n",
    "data['CPTx'].fillna(value='Other', inplace=True)\n",
    "data['CPTx'].value_counts(dropna=False)"
   ]
  },
  {
   "cell_type": "code",
   "execution_count": null,
   "id": "f306fb19",
   "metadata": {},
   "outputs": [],
   "source": [
    "#Define major complications.\n",
    "\n",
    "data['MAJRCOMP'] = data['NWNDINFD'] + data['NORGSPCSSI'] + data['NDEHIS'] + data['NREINTUB'] + data['NPULEMBOL'] + data['NFAILWEAN'] + data['NRENAINSF'] + data['NOPRENAFL'] + data['NCNSCVA'] + data['NCDARREST'] + data['NCDMI'] + data['NOTHBLEED'] + data['NOTHDVT'] + data['NOTHSYSEP'] + data['NOTHSESHOCK']"
   ]
  },
  {
   "cell_type": "code",
   "execution_count": null,
   "id": "03d88125",
   "metadata": {},
   "outputs": [],
   "source": [
    "#Show number of major complications per patient.\n",
    "\n",
    "data['MAJRCOMP'].value_counts()"
   ]
  },
  {
   "cell_type": "code",
   "execution_count": null,
   "id": "94a01312",
   "metadata": {},
   "outputs": [],
   "source": [
    "#Convert major complications into categorical data in a column named 'COMP'.\n",
    "\n",
    "data.loc[data['MAJRCOMP'] == 0, 'COMP'] = 'No'\n",
    "data.loc[data['MAJRCOMP'] >= 1, 'COMP'] = 'Yes'"
   ]
  },
  {
   "cell_type": "code",
   "execution_count": null,
   "id": "19e19aa5",
   "metadata": {},
   "outputs": [],
   "source": [
    "#Show major complications as categorical.\n",
    "\n",
    "data['COMP'].value_counts()"
   ]
  },
  {
   "cell_type": "code",
   "execution_count": null,
   "id": "3acd3514",
   "metadata": {},
   "outputs": [],
   "source": [
    "#See LOS per patient.\n",
    "\n",
    "data['TOTHLOS'].value_counts()"
   ]
  },
  {
   "cell_type": "code",
   "execution_count": null,
   "id": "19aaba11",
   "metadata": {},
   "outputs": [],
   "source": [
    "#See 75th percentile of LOS.\n",
    "data.TOTHLOS.quantile(0.75)"
   ]
  },
  {
   "cell_type": "code",
   "execution_count": null,
   "id": "9621daa0",
   "metadata": {},
   "outputs": [],
   "source": [
    "#Convert total length of stay into categorical data in a column named 'LOS'.\n",
    "\n",
    "data.loc[data['TOTHLOS'] <= data.TOTHLOS.quantile(0.75), 'LOS'] = 'No'\n",
    "data.loc[data['TOTHLOS'] > data.TOTHLOS.quantile(0.75), 'LOS'] = 'Yes'"
   ]
  },
  {
   "cell_type": "code",
   "execution_count": null,
   "id": "a2a3e92e",
   "metadata": {},
   "outputs": [],
   "source": [
    "#Show major complications as categorical.\n",
    "\n",
    "data['LOS'].value_counts(dropna=False)"
   ]
  },
  {
   "cell_type": "code",
   "execution_count": null,
   "id": "3ba4da0f",
   "metadata": {},
   "outputs": [],
   "source": [
    "#Show readmission status.\n",
    "\n",
    "data['READMISSION1'].value_counts(dropna=False)"
   ]
  },
  {
   "cell_type": "code",
   "execution_count": null,
   "id": "6b4abfc7",
   "metadata": {},
   "outputs": [],
   "source": [
    "#Drop patients with unknown readmission status.\n",
    "\n",
    "data = data[data['READMISSION1'].notna()]"
   ]
  },
  {
   "cell_type": "code",
   "execution_count": null,
   "id": "946eb787",
   "metadata": {},
   "outputs": [],
   "source": [
    "#Show readmission status after dropping patients with unknown readmission status.\n",
    "\n",
    "data['READMISSION1'].value_counts(dropna=False)"
   ]
  },
  {
   "cell_type": "code",
   "execution_count": null,
   "id": "d7669954",
   "metadata": {},
   "outputs": [],
   "source": [
    "#Show readmission status.\n",
    "\n",
    "data['DISCHDEST'].value_counts(dropna=False)"
   ]
  },
  {
   "cell_type": "code",
   "execution_count": null,
   "id": "f3187033",
   "metadata": {},
   "outputs": [],
   "source": [
    "#Convert discharge destination into binary data (home vs. non-home discharge) in a column named 'DISCHARGE'.\n",
    "\n",
    "data.loc[data['DISCHDEST'] == 'Home', 'DISCHARGE'] = 'No'\n",
    "data.loc[data['DISCHDEST'] == 'Facility Which was Home', 'DISCHARGE'] = 'No'\n",
    "data.loc[data['DISCHDEST'] == 'Rehab', 'DISCHARGE'] = 'Yes'\n",
    "data.loc[data['DISCHDEST'] == 'Skilled Care, Not Home', 'DISCHARGE'] = 'Yes'\n",
    "data.loc[data['DISCHDEST'] == 'Separate Acute Care', 'DISCHARGE'] = 'Yes'\n",
    "data.loc[data['DISCHDEST'] == 'Unskilled Facility Not Home', 'DISCHARGE'] = 'Yes'"
   ]
  },
  {
   "cell_type": "code",
   "execution_count": null,
   "id": "b341c22d",
   "metadata": {},
   "outputs": [],
   "source": [
    "#Show discharge destination status after converting it to binary data.\n",
    "\n",
    "data['DISCHARGE'].value_counts(dropna=False)"
   ]
  },
  {
   "cell_type": "code",
   "execution_count": null,
   "id": "f13e30d3",
   "metadata": {},
   "outputs": [],
   "source": [
    "#Drop patients with unknown discharge status.\n",
    "\n",
    "data = data[data['DISCHARGE'].notna()]"
   ]
  },
  {
   "cell_type": "code",
   "execution_count": null,
   "id": "53985664",
   "metadata": {},
   "outputs": [],
   "source": [
    "#Show discharge status after dropping patients with unknown discharge status.\n",
    "\n",
    "data['DISCHARGE'].value_counts(dropna=False)"
   ]
  },
  {
   "cell_type": "code",
   "execution_count": null,
   "id": "504786ad",
   "metadata": {},
   "outputs": [],
   "source": [
    "#Check data.\n",
    "\n",
    "data.shape"
   ]
  },
  {
   "cell_type": "code",
   "execution_count": null,
   "id": "9dbdce3b",
   "metadata": {},
   "outputs": [],
   "source": [
    "#Save data.\n",
    "\n",
    "data.to_csv('st_cpt_only_clean.csv')"
   ]
  },
  {
   "cell_type": "code",
   "execution_count": null,
   "id": "159808c2",
   "metadata": {},
   "outputs": [],
   "source": [
    "#Read data again.\n",
    "\n",
    "data = pd.read_csv('st_cpt_only_clean.csv', index_col = 0)\n",
    "data.head()"
   ]
  },
  {
   "cell_type": "code",
   "execution_count": null,
   "id": "03c040b6",
   "metadata": {},
   "outputs": [],
   "source": [
    "#See all columns.\n",
    "\n",
    "print(list(data.columns))"
   ]
  },
  {
   "cell_type": "code",
   "execution_count": null,
   "id": "d64471b6",
   "metadata": {},
   "outputs": [],
   "source": [
    "#Drop unwanted columns.\n",
    "\n",
    "drop = ['RACE_NEW', 'ETHNICITY_HISPANIC', 'CPT', 'INOUT', 'DISCHDEST', 'ANESTHES','ELECTSURG', 'VENTILAT', 'PRSEPIS', 'OTHERCPT1', 'OTHERCPT2', 'OTHERCPT3', 'OTHERCPT4', 'OTHERCPT5', 'OTHERCPT6', 'OTHERCPT7', 'OTHERCPT8', 'OTHERCPT9', 'OTHERCPT10', 'CONCPT1', 'CONCPT2', 'CONCPT3', 'CONCPT4', 'CONCPT5', 'CONCPT6', 'CONCPT7', 'CONCPT8', 'CONCPT9', 'CONCPT10', 'EMERGNCY', 'WNDCLAS', 'OPTIME','OPTIME', 'TOTHLOS', 'NSUPINFEC', 'NWNDINFD', 'NORGSPCSSI', 'NDEHIS', 'NOUPNEUMO', 'NREINTUB', 'NPULEMBOL', 'NFAILWEAN', 'NRENAINSF', 'NOPRENAFL', 'NURNINFEC', 'NCNSCVA', 'NCDARREST', 'NCDMI', 'NOTHBLEED', 'NOTHDVT', 'NOTHSYSEP', 'NOTHSESHOCK', 'PODIAG', 'PODIAG10', 'STILLINHOSP', 'MAJRCOMP']\n",
    "data.drop(drop, axis=1, inplace=True)"
   ]
  },
  {
   "cell_type": "code",
   "execution_count": null,
   "id": "9778230d",
   "metadata": {},
   "outputs": [],
   "source": [
    "#Check data shape.\n",
    "\n",
    "data.shape"
   ]
  },
  {
   "cell_type": "code",
   "execution_count": null,
   "id": "d4ea6b59",
   "metadata": {},
   "outputs": [],
   "source": [
    "#See categorical and continuous variables.\n",
    "\n",
    "print('Numerical columns: {}'.format(list(data.select_dtypes('number').columns)))\n",
    "print()\n",
    "print('Categorical columns: {}'.format(list(data.select_dtypes('object').columns)))"
   ]
  },
  {
   "cell_type": "code",
   "execution_count": null,
   "id": "c58bb068",
   "metadata": {},
   "outputs": [],
   "source": [
    "#Define numerical and categorical columns.\n",
    "\n",
    "num_cols = ['AGE', 'HEIGHT', 'WEIGHT', 'PRSODM', 'PRBUN', 'PRCREAT', 'PRALBUM', 'PRBILI', 'PRSGOT', 'PRALKPH', 'PRWBC', 'PRHCT', 'PRPLATE', 'PRPTT', 'PRINR', 'PRPT', 'BMI', 'HTOODAY']\n",
    "\n",
    "cat_cols = ['SEX', 'OPERYR', 'TRANST', 'SURGSPEC', 'DIABETES', 'SMOKE', 'DYSPNEA', 'FNSTATUS2', 'HXCOPD', 'ASCITES', 'HXCHF', 'HYPERMED', 'RENAFAIL', 'DIALYSIS', 'DISCANCR', 'WNDINF', 'STEROID', 'WTLOSS', 'BLEEDDIS', 'TRANSFUS', 'ASACLAS', 'REOPERATION1', 'READMISSION1', 'RACE', 'IEDUR', 'CPTx', 'COMP', 'LOS', 'DISCHARGE']"
   ]
  },
  {
   "cell_type": "code",
   "execution_count": null,
   "id": "f76c6e69",
   "metadata": {},
   "outputs": [],
   "source": [
    "#Check missing values for numerical variables.\n",
    "\n",
    "data[num_cols].isnull().mean().round(4).mul(100).sort_values(ascending=False)"
   ]
  },
  {
   "cell_type": "code",
   "execution_count": null,
   "id": "301115a0",
   "metadata": {},
   "outputs": [],
   "source": [
    "#Drop columns with missing values over 25%.\n",
    "\n",
    "drop = ['PRPT', 'PRBILI', 'PRALKPH', 'PRSGOT', 'PRALBUM', 'PRPTT', 'PRINR']\n",
    "data.drop(drop, axis=1, inplace=True)"
   ]
  },
  {
   "cell_type": "code",
   "execution_count": null,
   "id": "262c8718",
   "metadata": {},
   "outputs": [],
   "source": [
    "#Redefine new numerical columns.\n",
    "\n",
    "num_cols = ['AGE', 'HEIGHT', 'WEIGHT', 'PRSODM', 'PRBUN', 'PRCREAT', 'PRWBC', 'PRHCT', 'PRPLATE', 'BMI']"
   ]
  },
  {
   "cell_type": "code",
   "execution_count": null,
   "id": "81073024",
   "metadata": {},
   "outputs": [],
   "source": [
    "#Impute missing numerical values.\n",
    "num_imputer = KNNImputer(n_neighbors=5, weights='uniform', metric='nan_euclidean')\n",
    "data[num_cols] = num_imputer.fit_transform(data[num_cols])"
   ]
  },
  {
   "cell_type": "code",
   "execution_count": null,
   "id": "6a04f6fd",
   "metadata": {},
   "outputs": [],
   "source": [
    "#Check numerical variables with missing values after imputation.\n",
    "\n",
    "data[num_cols].isnull().mean().round(4).mul(100).sort_values(ascending=False)"
   ]
  },
  {
   "cell_type": "code",
   "execution_count": null,
   "id": "31a74284",
   "metadata": {},
   "outputs": [],
   "source": [
    "#Check missing values for categorical variables.\n",
    "\n",
    "data[cat_cols].isnull().mean().round(4).mul(100).sort_values(ascending=False)"
   ]
  },
  {
   "cell_type": "code",
   "execution_count": null,
   "id": "bdddffc2",
   "metadata": {},
   "outputs": [],
   "source": [
    "#Drop columns with missing values over 25%.\n",
    "\n",
    "drop = []\n",
    "data.drop(drop, axis=1, inplace=True)"
   ]
  },
  {
   "cell_type": "code",
   "execution_count": null,
   "id": "dd9d8cdf",
   "metadata": {},
   "outputs": [],
   "source": [
    "#Redefine categorical variables.\n",
    "\n",
    "cat_cols = ['SEX', 'OPERYR', 'TRANST', 'SURGSPEC', 'DIABETES', 'SMOKE', 'DYSPNEA', 'FNSTATUS2', 'HXCOPD', 'ASCITES', 'HXCHF', 'HYPERMED', 'RENAFAIL', 'DIALYSIS', 'DISCANCR', 'WNDINF', 'STEROID', 'WTLOSS', 'BLEEDDIS', 'TRANSFUS', 'ASACLAS', 'REOPERATION1', 'READMISSION1', 'RACE', 'IEDUR', 'CPTx', 'COMP', 'LOS', 'DISCHARGE']"
   ]
  },
  {
   "cell_type": "code",
   "execution_count": null,
   "id": "50d8f391",
   "metadata": {},
   "outputs": [],
   "source": [
    "#Replace missing categorical values with 'Unknown'.\n",
    "\n",
    "for col in cat_cols:\n",
    "    data[col].fillna(value='Unknown', inplace=True)"
   ]
  },
  {
   "cell_type": "code",
   "execution_count": null,
   "id": "b92ac2e4",
   "metadata": {},
   "outputs": [],
   "source": [
    "#Check missing values after imputation.\n",
    "\n",
    "data[cat_cols].isnull().mean().round(4).mul(100).sort_values(ascending=False)"
   ]
  },
  {
   "cell_type": "code",
   "execution_count": null,
   "id": "7cb55b5a",
   "metadata": {},
   "outputs": [],
   "source": [
    "#Save imputed data.\n",
    "\n",
    "data.to_csv('st_cpt_only_imputed.csv')"
   ]
  },
  {
   "cell_type": "code",
   "execution_count": null,
   "id": "3354786c",
   "metadata": {},
   "outputs": [],
   "source": [
    "#RobustScale data.\n",
    "\n",
    "data[num_cols] = RobustScaler().fit_transform(data[num_cols])"
   ]
  },
  {
   "cell_type": "code",
   "execution_count": null,
   "id": "179f3708",
   "metadata": {},
   "outputs": [],
   "source": [
    "#Normalize data.\n",
    "\n",
    "data[num_cols] = MinMaxScaler().fit_transform(data[num_cols])"
   ]
  },
  {
   "cell_type": "code",
   "execution_count": null,
   "id": "35d33bd5",
   "metadata": {},
   "outputs": [],
   "source": [
    "#Save scaled data.\n",
    "\n",
    "data.to_csv('st_cpt_only_scaled.csv')"
   ]
  },
  {
   "cell_type": "code",
   "execution_count": null,
   "id": "dd30a781",
   "metadata": {},
   "outputs": [],
   "source": [
    "#One hot encoding for categorical values.\n",
    "\n",
    "data_final = pd.get_dummies(data, columns = cat_cols, drop_first = False)"
   ]
  },
  {
   "cell_type": "code",
   "execution_count": null,
   "id": "473ff4e6",
   "metadata": {},
   "outputs": [],
   "source": [
    "#Save final data.\n",
    "\n",
    "data_final.to_csv('st_cpt_only_final.csv')"
   ]
  }
 ],
 "metadata": {
  "kernelspec": {
   "display_name": "Python 3 (ipykernel)",
   "language": "python",
   "name": "python3"
  },
  "language_info": {
   "codemirror_mode": {
    "name": "ipython",
    "version": 3
   },
   "file_extension": ".py",
   "mimetype": "text/x-python",
   "name": "python",
   "nbconvert_exporter": "python",
   "pygments_lexer": "ipython3",
   "version": "3.9.13"
  }
 },
 "nbformat": 4,
 "nbformat_minor": 5
}
